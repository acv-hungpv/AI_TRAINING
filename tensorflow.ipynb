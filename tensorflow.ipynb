{
 "cells": [
  {
   "cell_type": "code",
   "execution_count": 95,
   "metadata": {},
   "outputs": [],
   "source": [
    "import tensorflow as tf\n",
    "import os \n",
    "os.environ['TF_CPP_MIN_LOG_LEVEL'] = '2'\n",
    "tf.reset_default_graph()\n"
   ]
  },
  {
   "cell_type": "code",
   "execution_count": 96,
   "metadata": {},
   "outputs": [],
   "source": [
    "a = tf.constant(2)"
   ]
  },
  {
   "cell_type": "code",
   "execution_count": 97,
   "metadata": {},
   "outputs": [],
   "source": [
    "b = tf.constant(3)\n",
    "x = tf.add(a,b)\n",
    "writer = tf.summary.FileWriter(\"./graphs\", tf.get_default_graph())\n"
   ]
  },
  {
   "cell_type": "code",
   "execution_count": 98,
   "metadata": {},
   "outputs": [
    {
     "name": "stdout",
     "output_type": "stream",
     "text": [
      "5\n"
     ]
    }
   ],
   "source": [
    "with tf.Session() as sess:\n",
    "    print(sess.run(x))\n",
    "    writer = tf.summary.FileWriter(\"./graphs\", sess.graph)\n",
    "writer.close()  \n",
    "    "
   ]
  },
  {
   "cell_type": "code",
   "execution_count": 99,
   "metadata": {},
   "outputs": [],
   "source": [
    "a = tf.constant(2, name='a')\n",
    "b = tf.constant(3, name='b')\n",
    "x = tf.add(a, b, name='add')"
   ]
  },
  {
   "cell_type": "code",
   "execution_count": 100,
   "metadata": {},
   "outputs": [],
   "source": [
    "writer = tf.summary.FileWriter('./graphs', tf.get_default_graph())"
   ]
  },
  {
   "cell_type": "code",
   "execution_count": 101,
   "metadata": {},
   "outputs": [
    {
     "name": "stdout",
     "output_type": "stream",
     "text": [
      "5\n"
     ]
    }
   ],
   "source": [
    "with tf.Session() as sess:\n",
    "    print(sess.run(x))"
   ]
  },
  {
   "cell_type": "code",
   "execution_count": 102,
   "metadata": {},
   "outputs": [],
   "source": [
    "a = tf.constant([2,2], name='a')\n",
    "b = tf.constant([[0,1], [2,3]], name='b')"
   ]
  },
  {
   "cell_type": "code",
   "execution_count": 103,
   "metadata": {},
   "outputs": [],
   "source": [
    "x = tf.multiply(a, b, name='mul')"
   ]
  },
  {
   "cell_type": "code",
   "execution_count": 104,
   "metadata": {},
   "outputs": [
    {
     "name": "stdout",
     "output_type": "stream",
     "text": [
      "[[0 2]\n",
      " [4 6]]\n"
     ]
    }
   ],
   "source": [
    "with tf.Session() as sess:\n",
    "    print(sess.run(x))"
   ]
  },
  {
   "cell_type": "code",
   "execution_count": 105,
   "metadata": {},
   "outputs": [],
   "source": [
    "zeros = tf.zeros([2,3], tf.int32)"
   ]
  },
  {
   "cell_type": "code",
   "execution_count": 106,
   "metadata": {},
   "outputs": [
    {
     "name": "stdout",
     "output_type": "stream",
     "text": [
      "[[0 0 0]\n",
      " [0 0 0]]\n"
     ]
    }
   ],
   "source": [
    "with tf.Session() as sess:\n",
    "    print(sess.run(zeros))"
   ]
  },
  {
   "cell_type": "code",
   "execution_count": 107,
   "metadata": {},
   "outputs": [],
   "source": [
    "like = tf.zeros_like(zeros)"
   ]
  },
  {
   "cell_type": "code",
   "execution_count": 108,
   "metadata": {},
   "outputs": [
    {
     "name": "stdout",
     "output_type": "stream",
     "text": [
      "[[0 0 0]\n",
      " [0 0 0]]\n"
     ]
    }
   ],
   "source": [
    "with tf.Session() as sess:\n",
    "    print(sess.run(like))"
   ]
  },
  {
   "cell_type": "code",
   "execution_count": 109,
   "metadata": {},
   "outputs": [],
   "source": [
    "ones = tf.ones_like(zeros, dtype=None, name=None, optimize= True)\n"
   ]
  },
  {
   "cell_type": "code",
   "execution_count": 110,
   "metadata": {},
   "outputs": [
    {
     "name": "stdout",
     "output_type": "stream",
     "text": [
      "[[1 1 1]\n",
      " [1 1 1]]\n"
     ]
    }
   ],
   "source": [
    "with tf.Session() as sess:\n",
    "    print(sess.run(ones))\n",
    "    "
   ]
  },
  {
   "cell_type": "code",
   "execution_count": 111,
   "metadata": {},
   "outputs": [],
   "source": [
    "fill = tf.fill([2,3], 8)"
   ]
  },
  {
   "cell_type": "code",
   "execution_count": 112,
   "metadata": {},
   "outputs": [
    {
     "name": "stdout",
     "output_type": "stream",
     "text": [
      "[[8 8 8]\n",
      " [8 8 8]]\n"
     ]
    }
   ],
   "source": [
    "with tf.Session() as sess:\n",
    "    print(sess.run(fill))"
   ]
  },
  {
   "cell_type": "code",
   "execution_count": 113,
   "metadata": {},
   "outputs": [
    {
     "name": "stdout",
     "output_type": "stream",
     "text": [
      "[10. 11. 12. 13.]\n"
     ]
    }
   ],
   "source": [
    "# tf.lin_space(start, stop, num, name=None) \n",
    "lin_space = tf.lin_space(10.0, 13.0, 4)\n",
    "with tf.Session() as sess:\n",
    "    print(sess.run(lin_space))"
   ]
  },
  {
   "cell_type": "code",
   "execution_count": 114,
   "metadata": {},
   "outputs": [
    {
     "name": "stdout",
     "output_type": "stream",
     "text": [
      "[ 3  6  9 12 15]\n",
      "[0 1 2 3 4]\n"
     ]
    }
   ],
   "source": [
    "# tf.range(start, limit=None, delta=1, dtype=None, name='range')\n",
    "range_3 = tf.range(3, 18,3)\n",
    "range_ = tf.range(5)\n",
    "with tf.Session() as sess:\n",
    "    print(sess.run(range_3))\n",
    "    print(sess.run(range_))"
   ]
  },
  {
   "cell_type": "code",
   "execution_count": 115,
   "metadata": {},
   "outputs": [
    {
     "name": "stdout",
     "output_type": "stream",
     "text": [
      "sess.run(tf.div(b,a)) [[0 0]\n",
      " [1 1]]\n",
      "sess.run(tf.divide(b,a)) [[0.  0.5]\n",
      " [1.  1.5]]\n",
      "sess.run(tf.truediv(b,a)) [[0.  0.5]\n",
      " [1.  1.5]]\n",
      "sess.run(tf.floordiv(b,a)) [[0 0]\n",
      " [1 1]]\n",
      "sess.run(tf.truncatediv(b,a)) [[0 0]\n",
      " [1 1]]\n",
      "sess.run(tf.floor_div(b,a)) [[0 0]\n",
      " [1 1]]\n"
     ]
    }
   ],
   "source": [
    "tf.reset_default_graph()\n",
    "\n",
    "a = tf.constant([2,2], name='a')\n",
    "b = tf.constant([[0,1], [2,3]], name='b')\n",
    "with tf.Session() as sess:\n",
    "    print('sess.run(tf.div(b,a))', sess.run(tf.div(b,a)))\n",
    "    print('sess.run(tf.divide(b,a))', sess.run(tf.divide(b,a)))    \n",
    "    print('sess.run(tf.truediv(b,a))', sess.run(tf.truediv(b,a)))    \n",
    "    print('sess.run(tf.floordiv(b,a))', sess.run(tf.floordiv(b,a)))    \n",
    "    # print(sess.run(tf.realdiv(b,a)))  # only work for real value  \n",
    "    print('sess.run(tf.truncatediv(b,a))', sess.run(tf.truncatediv(b,a)))    \n",
    "    print('sess.run(tf.floor_div(b,a))', sess.run(tf.floor_div(b,a)))    "
   ]
  },
  {
   "cell_type": "code",
   "execution_count": 118,
   "metadata": {},
   "outputs": [
    {
     "name": "stdout",
     "output_type": "stream",
     "text": [
      "0\n",
      "1\n"
     ]
    }
   ],
   "source": [
    "t_O = 19\n",
    "zeros = tf.zeros_like(t_O)\n",
    "ones = tf.ones_like(t_O)\n",
    "with tf.Session() as sess:\n",
    "    print(sess.run(zeros))\n",
    "    print(sess.run(ones))    "
   ]
  },
  {
   "cell_type": "code",
   "execution_count": 126,
   "metadata": {},
   "outputs": [
    {
     "name": "stdout",
     "output_type": "stream",
     "text": [
      "[b'' b'' b'']\n"
     ]
    }
   ],
   "source": [
    "t_1 = [b\"apple\", b\"peach\", b\"grape\"]\n",
    "zeros_t_1 = tf.zeros_like(t_1)\n",
    "with tf.Session() as sess:\n",
    "    print(sess.run(zeros_t_1))"
   ]
  },
  {
   "cell_type": "code",
   "execution_count": null,
   "metadata": {},
   "outputs": [],
   "source": []
  }
 ],
 "metadata": {
  "kernelspec": {
   "display_name": "Python 3",
   "language": "python",
   "name": "python3"
  },
  "language_info": {
   "codemirror_mode": {
    "name": "ipython",
    "version": 3
   },
   "file_extension": ".py",
   "mimetype": "text/x-python",
   "name": "python",
   "nbconvert_exporter": "python",
   "pygments_lexer": "ipython3",
   "version": "3.6.7"
  }
 },
 "nbformat": 4,
 "nbformat_minor": 2
}
